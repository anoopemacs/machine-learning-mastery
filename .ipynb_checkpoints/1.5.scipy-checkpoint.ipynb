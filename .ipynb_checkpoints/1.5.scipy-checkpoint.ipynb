{
 "cells": [
  {
   "cell_type": "code",
   "execution_count": 35,
   "metadata": {
    "autoscroll": false,
    "collapsed": false,
    "ein.hycell": false,
    "ein.tags": "worksheet-0",
    "slideshow": {
     "slide_type": "-"
    }
   },
   "outputs": [],
   "source": [
    "from IPython.core.interactiveshell import InteractiveShell\n",
    "InteractiveShell.ast_node_interactivity = \"all\" #the options for that are 'all', 'none', 'last' and 'last_expr'(the default is last_expr)"
   ]
  },
  {
   "cell_type": "code",
   "execution_count": 9,
   "metadata": {
    "autoscroll": false,
    "collapsed": false,
    "ein.hycell": false,
    "ein.tags": "worksheet-0",
    "slideshow": {
     "slide_type": "-"
    }
   },
   "outputs": [
    {
     "name": "stdout",
     "output_type": "stream",
     "text": [
      "* All ~submodules~ subpackages of package scipy\n",
      "scipy._build_utils\n",
      "scipy._lib\n",
      "scipy._lib.tests\n",
      "scipy.cluster\n",
      "scipy.cluster.tests\n",
      "scipy.constants\n",
      "scipy.constants.tests\n",
      "scipy.fftpack\n",
      "scipy.fftpack.tests\n",
      "scipy.integrate\n",
      "scipy.integrate._ivp\n",
      "scipy.integrate.tests\n",
      "scipy.interpolate\n",
      "scipy.interpolate.tests\n",
      "scipy.io\n",
      "scipy.io.arff\n",
      "scipy.io.arff.tests\n",
      "scipy.io.harwell_boeing\n",
      "scipy.io.harwell_boeing.tests\n",
      "scipy.io.matlab\n",
      "scipy.io.matlab.tests\n",
      "scipy.io.tests\n",
      "scipy.linalg\n",
      "scipy.linalg.tests\n",
      "scipy.misc\n",
      "scipy.misc.tests\n",
      "scipy.ndimage\n",
      "scipy.ndimage.tests\n",
      "scipy.odr\n",
      "scipy.odr.tests\n",
      "scipy.optimize\n",
      "scipy.optimize._lsq\n",
      "scipy.optimize._shgo_lib\n",
      "scipy.optimize._trlib\n",
      "scipy.optimize._trustregion_constr\n",
      "scipy.optimize._trustregion_constr.tests\n",
      "scipy.optimize.tests\n",
      "scipy.signal\n",
      "scipy.signal.tests\n",
      "scipy.signal.windows\n",
      "scipy.sparse\n",
      "scipy.sparse.csgraph\n",
      "scipy.sparse.csgraph.tests\n",
      "scipy.sparse.linalg\n",
      "scipy.sparse.linalg.dsolve\n",
      "scipy.sparse.linalg.dsolve.tests\n",
      "scipy.sparse.linalg.eigen\n",
      "scipy.sparse.linalg.eigen.arpack\n",
      "scipy.sparse.linalg.eigen.arpack.tests\n",
      "scipy.sparse.linalg.eigen.lobpcg\n",
      "scipy.sparse.linalg.eigen.lobpcg.tests\n",
      "scipy.sparse.linalg.isolve\n",
      "scipy.sparse.linalg.isolve.tests\n",
      "scipy.sparse.linalg.tests\n",
      "scipy.sparse.tests\n",
      "scipy.spatial\n",
      "scipy.spatial.tests\n",
      "scipy.spatial.transform\n",
      "scipy.spatial.transform.tests\n",
      "scipy.special\n",
      "scipy.special._precompute\n",
      "scipy.special.tests\n",
      "scipy.stats\n",
      "scipy.stats.tests\n"
     ]
    }
   ],
   "source": [
    "#Importing a package does not automatically import the submodules\n",
    "\n",
    "# If you're wondering why it looks like sometimes you don't need those\n",
    "# extra imports: some packages import some or all of their submodules\n",
    "# when they are imported -- simply by doing those imports in their\n",
    "# __init__.py files.\n",
    "\n",
    "# Make sure the variable package is pointing to a package, not a\n",
    "# module. Modules are files whereas packages are directories. All\n",
    "# packages have the __path__ attribute (... unless someone deleted the\n",
    "# attribute for some reason.)\n",
    "\n",
    "import scipy # never do this for scipy\n",
    "# because most of the functions in that top namespace are there for legacy reasons ONLY\n",
    "\n",
    "# another rule of thumb:\n",
    "# use scipy.linalg, not numpy.linalg : because scipy version is guranteed to be fast\n",
    "\n",
    "print(\"* All ~submodules~ subpackages of package scipy\")\n",
    "#dir(scipy)\n",
    "\n",
    "import pkgutil\n",
    "import scipy\n",
    "package = scipy\n",
    "for importer, modulename, ispkg in pkgutil.walk_packages(path = package.__path__,\n",
    "                                                      prefix = package.__name__+'.',\n",
    "                                                      onerror = lambda x: None):\n",
    "    #print(modulename)\n",
    "    if ispkg:\n",
    "        print(modulename)"
   ]
  },
  {
   "cell_type": "markdown",
   "metadata": {
    "ein.tags": "worksheet-0",
    "slideshow": {
     "slide_type": "-"
    }
   },
   "source": [
    "What Is Vector Quantization?\n",
    "\n",
    "Strictly speaking, quantization is the procedure of approximating\n",
    "continuous with discrete values; in practice, the input values to the\n",
    "quantization procedure are often also discrete, but with a much finer\n",
    "resolution than that of the output values. The goal of quantization\n",
    "usually is to produce a more compact representation of the data while\n",
    "maintaining its usefulness for a certain purpose. For example, to\n",
    "store color intensities you can quantize floating-point values in the\n",
    "range [0.0, 1.0] to integer values in the range 0-255, representing\n",
    "them with 8 bits, which is considered a sufficient resolution for many\n",
    "applications dealing with color. In this example, the spacing of\n",
    "possible values is the same over the entire discrete set, so we speak\n",
    "of uniform quantization; often, a nonuniform spacing is more\n",
    "appropriate when better resolution is needed over some parts of the\n",
    "range of values. Floating-point number representation is an example of\n",
    "nonuniform quantization—you have the as many possible FP values\n",
    "between 0.1 and 1 as you have between 10 and 100.\n",
    "\n",
    "Both these are examples of scalar quantization—the input and output\n",
    "values are scalars, or single numbers. You can do vector quantization\n",
    "(VQ) too, replacing vectors from a continuous (or dense discrete)\n",
    "input set with vectors from a much sparser set (note that here by\n",
    "vector we mean an ordered set of N numbers, not just the special case\n",
    "of points in 3D space). For example, if we have the colors of the\n",
    "pixels in an image represented by triples of red, green, and blue\n",
    "intensities in the [0.0, 1.0] range, we could quantize them uniformly\n",
    "by quantizing each of the three intensities to an 8-bit number; this\n",
    "leads us to the traditional 24-bit representation.\n",
    "\n",
    "By quantizing each component of the vector for itself, we gain nothing\n",
    "over standard scalar quantization; however, if we quantize the entire\n",
    "vectors, replacing them with vectors from a carefully chosen sparse\n",
    "nonuniform set and storing just indices into that set, we can get a\n",
    "much more compact representation of the image. This is nothing but the\n",
    "familiar paletted image representation. In VQ literature the\n",
    "\"palette,\" or the set of possible quantized values for the vectors is\n",
    "called a \"codebook,\" because you need it to \"decode\" the indices into\n",
    "actual vector values."
   ]
  },
  {
   "cell_type": "code",
   "execution_count": 15,
   "metadata": {
    "autoscroll": false,
    "collapsed": false,
    "ein.hycell": false,
    "ein.tags": "worksheet-0",
    "slideshow": {
     "slide_type": "-"
    }
   },
   "outputs": [
    {
     "data": {
      "text/plain": [
       "139"
      ]
     },
     "execution_count": 15,
     "metadata": {},
     "output_type": "execute_result"
    }
   ],
   "source": [
    "import scipy.linalg\n",
    "len(dir(scipy.linalg)) # lin algebra study index :)"
   ]
  },
  {
   "cell_type": "code",
   "execution_count": 55,
   "metadata": {
    "autoscroll": false,
    "collapsed": false,
    "ein.hycell": false,
    "ein.tags": "worksheet-0",
    "slideshow": {
     "slide_type": "-"
    }
   },
   "outputs": [
    {
     "data": {
      "text/plain": [
       "(array([[-0.70710678, -0.70710678],\n        [-0.70710678,  0.70710678]]),\n array([2.44948974e+00, 1.11022302e-16]),\n array([[-0.57735027, -0.57735027, -0.57735027],\n        [-0.81649658,  0.40824829,  0.40824829],\n        [ 0.        , -0.70710678,  0.70710678]]))"
      ]
     },
     "execution_count": 55,
     "metadata": {},
     "output_type": "execute_result"
    },
    {
     "data": {
      "text/plain": [
       "((2, 2), (2,), (3, 3))"
      ]
     },
     "execution_count": 55,
     "metadata": {},
     "output_type": "execute_result"
    },
    {
     "data": {
      "text/plain": [
       "array([0.        , 0.31415927, 0.62831853, 0.9424778 , 1.25663706,\n       1.57079633, 1.88495559, 2.19911486, 2.51327412, 2.82743339,\n       3.14159265])"
      ]
     },
     "execution_count": 55,
     "metadata": {},
     "output_type": "execute_result"
    }
   ],
   "source": [
    "import numpy as np\n",
    "import matplotlib.pyplot as plt\n",
    "\n",
    "#spio\n",
    "from scipy import io as spio\n",
    "d = np.ones((3, 3))\n",
    "spio.savemat(\"savemat0.mat\", {\"d\" : d}) #maybe .mat is Matlab related\n",
    "#usecase, using matlab for matrix multiplication because of its better syntax\n",
    "\n",
    "#svd skip for now mistake\n",
    "d = np.ones((2, 3))\n",
    "from scipy import linalg\n",
    "u, s, vt = linalg.svd(d) #matrix singular value decomposition # mn: matrix factorization\n",
    "# Singular value decomposition is a method of decomposing a matrix into three other matrices\n",
    "u, s, vt\n",
    "u.shape, s.shape, vt.shape\n",
    "sd = np.diag(s)\n",
    "\n",
    "#u.dot(sd).dot(vt)\n",
    "\n",
    "from scipy.interpolate import interp1d\n",
    "x = np.linspace(0, np.pi, 11)\n",
    "x\n",
    "y = np.sin(x) + np.random.rand()\n"
   ]
  }
 ],
 "metadata": {
  "kernelspec": {
   "display_name": "Python 3",
   "name": "python3"
  },
  "name": "1.5.scipy.ipynb"
 },
 "nbformat": 4,
 "nbformat_minor": 2
}
