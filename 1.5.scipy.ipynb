{
 "cells": [
  {
   "cell_type": "code",
   "execution_count": 35,
   "metadata": {
    "autoscroll": false,
    "collapsed": false,
    "ein.hycell": false,
    "ein.tags": "worksheet-0",
    "slideshow": {
     "slide_type": "-"
    }
   },
   "outputs": [],
   "source": [
    "from IPython.core.interactiveshell import InteractiveShell\n",
    "InteractiveShell.ast_node_interactivity = \"all\" #the options for that are 'all', 'none', 'last' and 'last_expr'(the default is last_expr)"
   ]
  },
  {
   "cell_type": "code",
   "execution_count": 9,
   "metadata": {
    "autoscroll": false,
    "collapsed": false,
    "ein.hycell": false,
    "ein.tags": "worksheet-0",
    "slideshow": {
     "slide_type": "-"
    }
   },
   "outputs": [
    {
     "name": "stdout",
     "output_type": "stream",
     "text": [
      "* All ~submodules~ subpackages of package scipy\n",
      "scipy._build_utils\n",
      "scipy._lib\n",
      "scipy._lib.tests\n",
      "scipy.cluster\n",
      "scipy.cluster.tests\n",
      "scipy.constants\n",
      "scipy.constants.tests\n",
      "scipy.fftpack\n",
      "scipy.fftpack.tests\n",
      "scipy.integrate\n",
      "scipy.integrate._ivp\n",
      "scipy.integrate.tests\n",
      "scipy.interpolate\n",
      "scipy.interpolate.tests\n",
      "scipy.io\n",
      "scipy.io.arff\n",
      "scipy.io.arff.tests\n",
      "scipy.io.harwell_boeing\n",
      "scipy.io.harwell_boeing.tests\n",
      "scipy.io.matlab\n",
      "scipy.io.matlab.tests\n",
      "scipy.io.tests\n",
      "scipy.linalg\n",
      "scipy.linalg.tests\n",
      "scipy.misc\n",
      "scipy.misc.tests\n",
      "scipy.ndimage\n",
      "scipy.ndimage.tests\n",
      "scipy.odr\n",
      "scipy.odr.tests\n",
      "scipy.optimize\n",
      "scipy.optimize._lsq\n",
      "scipy.optimize._shgo_lib\n",
      "scipy.optimize._trlib\n",
      "scipy.optimize._trustregion_constr\n",
      "scipy.optimize._trustregion_constr.tests\n",
      "scipy.optimize.tests\n",
      "scipy.signal\n",
      "scipy.signal.tests\n",
      "scipy.signal.windows\n",
      "scipy.sparse\n",
      "scipy.sparse.csgraph\n",
      "scipy.sparse.csgraph.tests\n",
      "scipy.sparse.linalg\n",
      "scipy.sparse.linalg.dsolve\n",
      "scipy.sparse.linalg.dsolve.tests\n",
      "scipy.sparse.linalg.eigen\n",
      "scipy.sparse.linalg.eigen.arpack\n",
      "scipy.sparse.linalg.eigen.arpack.tests\n",
      "scipy.sparse.linalg.eigen.lobpcg\n",
      "scipy.sparse.linalg.eigen.lobpcg.tests\n",
      "scipy.sparse.linalg.isolve\n",
      "scipy.sparse.linalg.isolve.tests\n",
      "scipy.sparse.linalg.tests\n",
      "scipy.sparse.tests\n",
      "scipy.spatial\n",
      "scipy.spatial.tests\n",
      "scipy.spatial.transform\n",
      "scipy.spatial.transform.tests\n",
      "scipy.special\n",
      "scipy.special._precompute\n",
      "scipy.special.tests\n",
      "scipy.stats\n",
      "scipy.stats.tests\n"
     ]
    }
   ],
   "source": [
    "#Importing a package does not automatically import the submodules\n",
    "\n",
    "# If you're wondering why it looks like sometimes you don't need those\n",
    "# extra imports: some packages import some or all of their submodules\n",
    "# when they are imported -- simply by doing those imports in their\n",
    "# __init__.py files.\n",
    "\n",
    "# Make sure the variable package is pointing to a package, not a\n",
    "# module. Modules are files whereas packages are directories. All\n",
    "# packages have the __path__ attribute (... unless someone deleted the\n",
    "# attribute for some reason.)\n",
    "\n",
    "import scipy # never do this for scipy\n",
    "# because most of the functions in that top namespace are there for legacy reasons ONLY\n",
    "\n",
    "# another rule of thumb:\n",
    "# use scipy.linalg, not numpy.linalg : because scipy version is guranteed to be fast\n",
    "\n",
    "print(\"* All ~submodules~ subpackages of package scipy\")\n",
    "#dir(scipy)\n",
    "\n",
    "import pkgutil\n",
    "import scipy\n",
    "package = scipy\n",
    "for importer, modulename, ispkg in pkgutil.walk_packages(path = package.__path__,\n",
    "                                                      prefix = package.__name__+'.',\n",
    "                                                      onerror = lambda x: None):\n",
    "    #print(modulename)\n",
    "    if ispkg:\n",
    "        print(modulename)"
   ]
  },
  {
   "cell_type": "markdown",
   "metadata": {
    "ein.tags": "worksheet-0",
    "slideshow": {
     "slide_type": "-"
    }
   },
   "source": [
    "What Is Vector Quantization?\n",
    "\n",
    "Strictly speaking, quantization is the procedure of approximating\n",
    "continuous with discrete values; in practice, the input values to the\n",
    "quantization procedure are often also discrete, but with a much finer\n",
    "resolution than that of the output values. The goal of quantization\n",
    "usually is to produce a more compact representation of the data while\n",
    "maintaining its usefulness for a certain purpose. For example, to\n",
    "store color intensities you can quantize floating-point values in the\n",
    "range [0.0, 1.0] to integer values in the range 0-255, representing\n",
    "them with 8 bits, which is considered a sufficient resolution for many\n",
    "applications dealing with color. In this example, the spacing of\n",
    "possible values is the same over the entire discrete set, so we speak\n",
    "of uniform quantization; often, a nonuniform spacing is more\n",
    "appropriate when better resolution is needed over some parts of the\n",
    "range of values. Floating-point number representation is an example of\n",
    "nonuniform quantization—you have the as many possible FP values\n",
    "between 0.1 and 1 as you have between 10 and 100.\n",
    "\n",
    "Both these are examples of scalar quantization—the input and output\n",
    "values are scalars, or single numbers. You can do vector quantization\n",
    "(VQ) too, replacing vectors from a continuous (or dense discrete)\n",
    "input set with vectors from a much sparser set (note that here by\n",
    "vector we mean an ordered set of N numbers, not just the special case\n",
    "of points in 3D space). For example, if we have the colors of the\n",
    "pixels in an image represented by triples of red, green, and blue\n",
    "intensities in the [0.0, 1.0] range, we could quantize them uniformly\n",
    "by quantizing each of the three intensities to an 8-bit number; this\n",
    "leads us to the traditional 24-bit representation.\n",
    "\n",
    "By quantizing each component of the vector for itself, we gain nothing\n",
    "over standard scalar quantization; however, if we quantize the entire\n",
    "vectors, replacing them with vectors from a carefully chosen sparse\n",
    "nonuniform set and storing just indices into that set, we can get a\n",
    "much more compact representation of the image. This is nothing but the\n",
    "familiar paletted image representation. In VQ literature the\n",
    "\"palette,\" or the set of possible quantized values for the vectors is\n",
    "called a \"codebook,\" because you need it to \"decode\" the indices into\n",
    "actual vector values."
   ]
  },
  {
   "cell_type": "code",
   "execution_count": 83,
   "metadata": {
    "autoscroll": false,
    "collapsed": false,
    "ein.hycell": false,
    "ein.tags": "worksheet-0",
    "slideshow": {
     "slide_type": "-"
    }
   },
   "outputs": [
    {
     "data": {
      "text/plain": [
       "139"
      ]
     },
     "execution_count": 83,
     "metadata": {},
     "output_type": "execute_result"
    },
    {
     "data": {
      "text/plain": [
       "(array([[-0.70710678, -0.70710678],\n        [-0.70710678,  0.70710678]]),\n array([2.44948974e+00, 1.11022302e-16]),\n array([[-0.57735027, -0.57735027, -0.57735027],\n        [-0.81649658,  0.40824829,  0.40824829],\n        [ 0.        , -0.70710678,  0.70710678]]))"
      ]
     },
     "execution_count": 83,
     "metadata": {},
     "output_type": "execute_result"
    },
    {
     "data": {
      "text/plain": [
       "((2, 2), (2,), (3, 3))"
      ]
     },
     "execution_count": 83,
     "metadata": {},
     "output_type": "execute_result"
    },
    {
     "data": {
      "text/plain": [
       "array([0.        , 0.02040816, 0.04081633, 0.06122449, 0.08163265,\n       0.10204082, 0.12244898, 0.14285714, 0.16326531, 0.18367347,\n       0.20408163, 0.2244898 , 0.24489796, 0.26530612, 0.28571429,\n       0.30612245, 0.32653061, 0.34693878, 0.36734694, 0.3877551 ,\n       0.40816327, 0.42857143, 0.44897959, 0.46938776, 0.48979592,\n       0.51020408, 0.53061224, 0.55102041, 0.57142857, 0.59183673,\n       0.6122449 , 0.63265306, 0.65306122, 0.67346939, 0.69387755,\n       0.71428571, 0.73469388, 0.75510204, 0.7755102 , 0.79591837,\n       0.81632653, 0.83673469, 0.85714286, 0.87755102, 0.89795918,\n       0.91836735, 0.93877551, 0.95918367, 0.97959184, 1.        ])"
      ]
     },
     "execution_count": 83,
     "metadata": {},
     "output_type": "execute_result"
    },
    {
     "data": {
      "text/plain": [
       "('noise', array([0.08711212, 0.0476988 , 0.01886783, 0.01191734, 0.06127979,\n        0.03599186, 0.08181441, 0.06776747, 0.07753159, 0.03826754,\n        0.00577708, 0.01113952, 0.05788126, 0.06505209, 0.05124297,\n        0.08988799, 0.02927233, 0.08259626, 0.00142888, 0.03646186,\n        0.0381011 , 0.04778973, 0.04381913, 0.01448018, 0.06743854,\n        0.08731329, 0.06195516, 0.03683539, 0.02119772, 0.08735946,\n        0.02104525, 0.09478372, 0.04539406, 0.07467786, 0.04332013,\n        0.07253451, 0.06617769, 0.05596493, 0.01112532, 0.03044989,\n        0.07708833, 0.08863249, 0.00754719, 0.09922297, 0.06648726,\n        0.0964696 , 0.0557967 , 0.00601433, 0.00934877, 0.04513932]))"
      ]
     },
     "execution_count": 83,
     "metadata": {},
     "output_type": "execute_result"
    },
    {
     "data": {
      "text/plain": [
       "[<matplotlib.lines.Line2D at 0x12f011390>]"
      ]
     },
     "execution_count": 83,
     "metadata": {},
     "output_type": "execute_result"
    },
    {
     "data": {
      "text/plain": [
       "[<matplotlib.lines.Line2D at 0x12f014828>]"
      ]
     },
     "execution_count": 83,
     "metadata": {},
     "output_type": "execute_result"
    },
    {
     "data": {
      "image/png": "[encoded data removed]",
      "text/plain": [
       "<Figure size 432x288 with 1 Axes>"
      ]
     },
     "metadata": {},
     "output_type": "display_data"
    }
   ],
   "source": [
    "import scipy.linalg\n",
    "len(dir(scipy.linalg)) # lin algebra study index :)\n",
    "import numpy as np\n",
    "import matplotlib.pyplot as plt\n",
    "\n",
    "#spio\n",
    "from scipy import io as spio\n",
    "d = np.ones((3, 3))\n",
    "spio.savemat(\"savemat0.mat\", {\"d\" : d}) #maybe .mat is Matlab related\n",
    "#usecase, using matlab for matrix multiplication because of its better syntax\n",
    "\n",
    "#svd skip for now mistake\n",
    "d = np.ones((2, 3))\n",
    "from scipy import linalg\n",
    "u, s, vt = linalg.svd(d) #matrix singular value decomposition # mn: matrix factorization\n",
    "# Singular value decomposition is a method of decomposing a matrix into three other matrices\n",
    "u, s, vt\n",
    "u.shape, s.shape, vt.shape\n",
    "sd = np.diag(s)\n",
    "\n",
    "#u.dot(sd).dot(vt)\n",
    "\n",
    "from scipy.interpolate import interp1d\n",
    "n = 50\n",
    "x = np.linspace(0, 1, 50)\n",
    "x\n",
    "noise = np.random.rand(50) / 10\n",
    "\"noise\", noise\n",
    "y = np.sin(2 * np.pi * x) + noise\n",
    "\n",
    "fig1, ax1 = plt.subplots()\n",
    "ax1.plot(x, y, 'o')\n",
    "#ax1.legend()\n",
    "\n",
    "f = interp1d(x, y)\n",
    "\n",
    "x2 = np.linspace(0, 1, 300)\n",
    "ax1.plot(x2, f(x2), 'r')\n",
    "\n",
    "##NOTE INTERPOLATE != EXTRAPOLATE, hence f is valid only for range of [x.min, x.max]"
   ]
  },
  {
   "cell_type": "code",
   "execution_count": null,
   "metadata": {
    "autoscroll": false,
    "collapsed": false,
    "ein.hycell": false,
    "ein.tags": "worksheet-0",
    "slideshow": {
     "slide_type": "-"
    }
   },
   "outputs": [
    {
     "data": {
      "text/plain": [
       "masked_array(data=[--, 0.0, 0.6931471805599453, 1.0986122886681098,\n                   1.3862943611198906, 1.6094379124341003,\n                   1.791759469228055, 1.9459101490553132,\n                   2.0794415416798357, 2.1972245773362196],\n             mask=[ True, False, False, False, False, False, False, False,\n                   False, False],\n       fill_value=1e+20)"
      ]
     },
     "execution_count": 121,
     "metadata": {},
     "output_type": "execute_result"
    }
   ],
   "source": [
    "#using masked array to avoid log(0) error\n",
    "import numpy.ma as ma\n",
    "x = np.arange(0, 10)\n",
    "ma.log(x)"
   ]
  },
  {
   "cell_type": "code",
   "execution_count": 171,
   "metadata": {
    "autoscroll": false,
    "collapsed": false,
    "ein.hycell": false,
    "ein.tags": "worksheet-0",
    "slideshow": {
     "slide_type": "-"
    }
   },
   "outputs": [
    {
     "name": "stdout",
     "output_type": "stream",
     "text": [
      "[2.95425349 1.49621517]\n"
     ]
    },
    {
     "data": {
      "text/plain": [
       "[<matplotlib.lines.Line2D at 0x13d567320>,\n <matplotlib.lines.Line2D at 0x13d55df98>]"
      ]
     },
     "execution_count": 171,
     "metadata": {},
     "output_type": "execute_result"
    },
    {
     "data": {
      "image/png": "[encoded data removed]",
      "text/plain": [
       "<Figure size 432x288 with 1 Axes>"
      ]
     },
     "metadata": {},
     "output_type": "display_data"
    }
   ],
   "source": [
    "#curve fitting solved example\n",
    "from scipy import optimize\n",
    "\n",
    "x_data = np.linspace(-5, 5, num=50)\n",
    "y_data = 2.9 * np.sin(1.5 * x_data) + np.random.normal(size=50)\n",
    "\n",
    "def test_func(x, a, b):\n",
    "    return a * np.sin(b * x)\n",
    "\n",
    "params, params_covariance = optimize.curve_fit(test_func, x_data, y_data, p0=[2, 2])\n",
    "\n",
    "print(params)\n",
    "a = params[0]\n",
    "b = params[1]\n",
    "y_ans = a * np.sin(b * x_data)\n",
    "\n",
    "plt.plot(x_data, y_data, 'b.', x_data, test_func(x_data, a, b), 'y')"
   ]
  },
  {
   "cell_type": "code",
   "execution_count": null,
   "metadata": {
    "autoscroll": false,
    "collapsed": false,
    "ein.hycell": false,
    "ein.tags": "worksheet-0",
    "slideshow": {
     "slide_type": "-"
    }
   },
   "outputs": [],
   "source": [
    "#TODO #doubt, have made mistake, come back later\n",
    "\n",
    "#curve fitting exercise\n",
    "temp_max = np.array([17,  19,  21,  28,  33,  38, 37,  37,  31,  23,  19,  18])\n",
    "temp_min = np.array([-62, -59, -56, -46, -32, -18, -9, -13, -25, -46, -52, -58])\n",
    "n = len(temp_max)\n",
    "assert(len(temp_max) == len(temp_min) == n == 12)\n",
    "\n",
    "month = np.arange(0, n, dtype = np.int64)\n",
    "fig2, ax2 = plt.subplots()\n",
    "ax2.plot(month, temp_max, 'r', label = \"temp_max\")\n",
    "ax2.plot(month, temp_min, 'b', label = \"temp_min\")\n",
    "\n",
    "fig3, ax3 = plt.subplots()\n",
    "ax3.plot(month, - (month - 6) ** 2) # - ((ax - b) ** 2)\n",
    "\n",
    "from scipy import optimize\n",
    "def test_func1(x, a, b):\n",
    "    return - ((a*x - b) ** 2)\n",
    "\n",
    "c1, j1 = fmax = optimize.curve_fit(test_func1, month, temp_max)\n",
    "c2, j2 = fmin = optimize.curve_fit(test_func1, month, temp_min)\n",
    "c1, c2\n",
    "\n",
    "ax2.plot(month, test_func1(month, c1[0], c1[1]), 'y.')\n",
    "\n",
    "# normalization and standardization are sometimes used\n",
    "# interchangeably, but they usually refer to different things.\n",
    "# Normalization usually means to scale a variable to have a values\n",
    "# between 0 and 1, while standardization transforms data to have a\n",
    "# mean of zero and a standard deviation of 1\n",
    "avg = month.mean()\n",
    "month_norm = month - month.min() / month.max() - month.min()\n",
    "\n",
    "def test_func2(x, amp, offset):\n",
    "    return temp_max.mean() + amp * np.cos((x - month.min() / month.max() - month.min()) - offset)\n",
    "def test_func3(x, amp, offset):\n",
    "    return temp_min.mean() + amp * np.cos((x - month.min() / month.max() - month.min()) - offset)\n",
    "\n",
    "c3, j3 = fmax2 = optimize.curve_fit(test_func2, month, temp_max)\n",
    "ax2.plot(month, test_func2(month, *c3), 'g-')\n",
    "\n",
    "c4, j4 = fmax3 = optimize.curve_fit(test_func3, month, temp_min)\n",
    "ax2.plot(month, test_func3(month, *c4), 'g-')"
   ]
  }
 ],
 "metadata": {
  "kernelspec": {
   "display_name": "Python 3",
   "name": "python3"
  },
  "name": "1.5.scipy.ipynb"
 },
 "nbformat": 4,
 "nbformat_minor": 2
}
